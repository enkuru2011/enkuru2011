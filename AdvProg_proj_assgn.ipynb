{
 "cells": [
  {
   "cell_type": "markdown",
   "id": "d5b50fed",
   "metadata": {},
   "source": [
    "<h2>Advanced Programming Practical Assignment<h2>"
   ]
  },
  {
   "cell_type": "markdown",
   "id": "aea6e482",
   "metadata": {},
   "source": [
    "<h2>By Edison Nkurunungi - JAN22/COMP/959U</h2>"
   ]
  },
  {
   "cell_type": "code",
   "execution_count": 1,
   "id": "6bd792a4",
   "metadata": {},
   "outputs": [
    {
     "name": "stdout",
     "output_type": "stream",
     "text": [
      "Collecting seaborn\n",
      "  Downloading seaborn-0.11.2-py3-none-any.whl (292 kB)\n",
      "     |████████████████████████████████| 292 kB 4.7 MB/s            \n",
      "\u001b[?25hRequirement already satisfied: scipy>=1.0 in /srv/conda/envs/notebook/lib/python3.6/site-packages (from seaborn) (1.5.3)\n",
      "Requirement already satisfied: numpy>=1.15 in /srv/conda/envs/notebook/lib/python3.6/site-packages (from seaborn) (1.19.5)\n",
      "Requirement already satisfied: pandas>=0.23 in /srv/conda/envs/notebook/lib/python3.6/site-packages (from seaborn) (1.1.5)\n",
      "Requirement already satisfied: matplotlib>=2.2 in /srv/conda/envs/notebook/lib/python3.6/site-packages (from seaborn) (3.3.4)\n",
      "Requirement already satisfied: pillow>=6.2.0 in /srv/conda/envs/notebook/lib/python3.6/site-packages (from matplotlib>=2.2->seaborn) (8.3.2)\n",
      "Requirement already satisfied: python-dateutil>=2.1 in /srv/conda/envs/notebook/lib/python3.6/site-packages (from matplotlib>=2.2->seaborn) (2.8.2)\n",
      "Requirement already satisfied: kiwisolver>=1.0.1 in /srv/conda/envs/notebook/lib/python3.6/site-packages (from matplotlib>=2.2->seaborn) (1.3.1)\n",
      "Requirement already satisfied: pyparsing!=2.0.4,!=2.1.2,!=2.1.6,>=2.0.3 in /srv/conda/envs/notebook/lib/python3.6/site-packages (from matplotlib>=2.2->seaborn) (3.0.7)\n",
      "Requirement already satisfied: cycler>=0.10 in /srv/conda/envs/notebook/lib/python3.6/site-packages (from matplotlib>=2.2->seaborn) (0.11.0)\n",
      "Requirement already satisfied: pytz>=2017.2 in /srv/conda/envs/notebook/lib/python3.6/site-packages (from pandas>=0.23->seaborn) (2021.3)\n",
      "Requirement already satisfied: six>=1.5 in /srv/conda/envs/notebook/lib/python3.6/site-packages (from python-dateutil>=2.1->matplotlib>=2.2->seaborn) (1.16.0)\n",
      "Installing collected packages: seaborn\n",
      "Successfully installed seaborn-0.11.2\n",
      "Note: you may need to restart the kernel to use updated packages.\n"
     ]
    }
   ],
   "source": [
    "%pip install seaborn"
   ]
  },
  {
   "cell_type": "markdown",
   "id": "d4d81c5b",
   "metadata": {},
   "source": [
    "<b>Import Libraries to be used</b>"
   ]
  },
  {
   "cell_type": "code",
   "execution_count": 2,
   "id": "6962934e",
   "metadata": {},
   "outputs": [],
   "source": [
    "import pandas as pd\n",
    "import numpy as np\n",
    "import matplotlib.pyplot as plt\n",
    "import seaborn as sns\n",
    "from matplotlib import pyplot\n",
    "%matplotlib inline"
   ]
  },
  {
   "cell_type": "code",
   "execution_count": 3,
   "id": "d7c9c6fb",
   "metadata": {},
   "outputs": [],
   "source": [
    "# for test-train split and r2_score\n",
    "from sklearn.model_selection import train_test_split\n",
    "from sklearn.metrics import r2_score"
   ]
  },
  {
   "cell_type": "code",
   "execution_count": 4,
   "id": "18635dcd",
   "metadata": {},
   "outputs": [],
   "source": [
    "# for linear regression:\n",
    "from sklearn.linear_model import LinearRegression"
   ]
  },
  {
   "cell_type": "code",
   "execution_count": 5,
   "id": "6fee32c0",
   "metadata": {},
   "outputs": [],
   "source": [
    "# for cross validation and prediction\n",
    "from sklearn.model_selection import cross_val_predict\n",
    "from sklearn.model_selection import cross_val_score"
   ]
  },
  {
   "cell_type": "code",
   "execution_count": 6,
   "id": "ae9e977f",
   "metadata": {},
   "outputs": [],
   "source": [
    "# for mean square error\n",
    "from sklearn.metrics import mean_squared_error"
   ]
  },
  {
   "cell_type": "code",
   "execution_count": 7,
   "id": "006877c0",
   "metadata": {},
   "outputs": [],
   "source": [
    "# for saving trained models to disk:\n",
    "import pickle"
   ]
  },
  {
   "cell_type": "code",
   "execution_count": 8,
   "id": "a7937329",
   "metadata": {},
   "outputs": [
    {
     "data": {
      "text/html": [
       "<div>\n",
       "<style scoped>\n",
       "    .dataframe tbody tr th:only-of-type {\n",
       "        vertical-align: middle;\n",
       "    }\n",
       "\n",
       "    .dataframe tbody tr th {\n",
       "        vertical-align: top;\n",
       "    }\n",
       "\n",
       "    .dataframe thead th {\n",
       "        text-align: right;\n",
       "    }\n",
       "</style>\n",
       "<table border=\"1\" class=\"dataframe\">\n",
       "  <thead>\n",
       "    <tr style=\"text-align: right;\">\n",
       "      <th></th>\n",
       "      <th>Date_reported</th>\n",
       "      <th>Country_code</th>\n",
       "      <th>Country</th>\n",
       "      <th>WHO_region</th>\n",
       "      <th>New_cases</th>\n",
       "      <th>Cumulative_cases</th>\n",
       "      <th>New_deaths</th>\n",
       "      <th>Cumulative_deaths</th>\n",
       "    </tr>\n",
       "  </thead>\n",
       "  <tbody>\n",
       "    <tr>\n",
       "      <th>0</th>\n",
       "      <td>1/3/2020</td>\n",
       "      <td>AF</td>\n",
       "      <td>Afghanistan</td>\n",
       "      <td>EMRO</td>\n",
       "      <td>0</td>\n",
       "      <td>0</td>\n",
       "      <td>0</td>\n",
       "      <td>0</td>\n",
       "    </tr>\n",
       "    <tr>\n",
       "      <th>1</th>\n",
       "      <td>1/4/2020</td>\n",
       "      <td>AF</td>\n",
       "      <td>Afghanistan</td>\n",
       "      <td>EMRO</td>\n",
       "      <td>0</td>\n",
       "      <td>0</td>\n",
       "      <td>0</td>\n",
       "      <td>0</td>\n",
       "    </tr>\n",
       "    <tr>\n",
       "      <th>2</th>\n",
       "      <td>1/5/2020</td>\n",
       "      <td>AF</td>\n",
       "      <td>Afghanistan</td>\n",
       "      <td>EMRO</td>\n",
       "      <td>0</td>\n",
       "      <td>0</td>\n",
       "      <td>0</td>\n",
       "      <td>0</td>\n",
       "    </tr>\n",
       "    <tr>\n",
       "      <th>3</th>\n",
       "      <td>1/6/2020</td>\n",
       "      <td>AF</td>\n",
       "      <td>Afghanistan</td>\n",
       "      <td>EMRO</td>\n",
       "      <td>0</td>\n",
       "      <td>0</td>\n",
       "      <td>0</td>\n",
       "      <td>0</td>\n",
       "    </tr>\n",
       "    <tr>\n",
       "      <th>4</th>\n",
       "      <td>1/7/2020</td>\n",
       "      <td>AF</td>\n",
       "      <td>Afghanistan</td>\n",
       "      <td>EMRO</td>\n",
       "      <td>0</td>\n",
       "      <td>0</td>\n",
       "      <td>0</td>\n",
       "      <td>0</td>\n",
       "    </tr>\n",
       "  </tbody>\n",
       "</table>\n",
       "</div>"
      ],
      "text/plain": [
       "  Date_reported Country_code      Country WHO_region  New_cases  \\\n",
       "0      1/3/2020           AF  Afghanistan       EMRO          0   \n",
       "1      1/4/2020           AF  Afghanistan       EMRO          0   \n",
       "2      1/5/2020           AF  Afghanistan       EMRO          0   \n",
       "3      1/6/2020           AF  Afghanistan       EMRO          0   \n",
       "4      1/7/2020           AF  Afghanistan       EMRO          0   \n",
       "\n",
       "   Cumulative_cases  New_deaths  Cumulative_deaths  \n",
       "0                 0           0                  0  \n",
       "1                 0           0                  0  \n",
       "2                 0           0                  0  \n",
       "3                 0           0                  0  \n",
       "4                 0           0                  0  "
      ]
     },
     "execution_count": 8,
     "metadata": {},
     "output_type": "execute_result"
    }
   ],
   "source": [
    "#import the file, WHO-COVID-19-global-data.csv and display dataset\n",
    "df= pd.read_csv ('./Data/WHO-COVID-19-global-data.csv')\n",
    "df.head()"
   ]
  },
  {
   "cell_type": "code",
   "execution_count": 9,
   "id": "13ca798f",
   "metadata": {},
   "outputs": [
    {
     "data": {
      "text/html": [
       "<div>\n",
       "<style scoped>\n",
       "    .dataframe tbody tr th:only-of-type {\n",
       "        vertical-align: middle;\n",
       "    }\n",
       "\n",
       "    .dataframe tbody tr th {\n",
       "        vertical-align: top;\n",
       "    }\n",
       "\n",
       "    .dataframe thead th {\n",
       "        text-align: right;\n",
       "    }\n",
       "</style>\n",
       "<table border=\"1\" class=\"dataframe\">\n",
       "  <thead>\n",
       "    <tr style=\"text-align: right;\">\n",
       "      <th></th>\n",
       "      <th>Date_reported</th>\n",
       "      <th>Country_code</th>\n",
       "      <th>Country</th>\n",
       "      <th>WHO_region</th>\n",
       "      <th>New_cases</th>\n",
       "      <th>Cumulative_cases</th>\n",
       "      <th>New_deaths</th>\n",
       "      <th>Cumulative_deaths</th>\n",
       "    </tr>\n",
       "  </thead>\n",
       "  <tbody>\n",
       "    <tr>\n",
       "      <th>197416</th>\n",
       "      <td>4/10/2022</td>\n",
       "      <td>ZW</td>\n",
       "      <td>Zimbabwe</td>\n",
       "      <td>AFRO</td>\n",
       "      <td>33</td>\n",
       "      <td>246958</td>\n",
       "      <td>0</td>\n",
       "      <td>5457</td>\n",
       "    </tr>\n",
       "    <tr>\n",
       "      <th>197417</th>\n",
       "      <td>4/11/2022</td>\n",
       "      <td>ZW</td>\n",
       "      <td>Zimbabwe</td>\n",
       "      <td>AFRO</td>\n",
       "      <td>15</td>\n",
       "      <td>246973</td>\n",
       "      <td>0</td>\n",
       "      <td>5457</td>\n",
       "    </tr>\n",
       "    <tr>\n",
       "      <th>197418</th>\n",
       "      <td>4/12/2022</td>\n",
       "      <td>ZW</td>\n",
       "      <td>Zimbabwe</td>\n",
       "      <td>AFRO</td>\n",
       "      <td>37</td>\n",
       "      <td>247010</td>\n",
       "      <td>3</td>\n",
       "      <td>5460</td>\n",
       "    </tr>\n",
       "    <tr>\n",
       "      <th>197419</th>\n",
       "      <td>4/13/2022</td>\n",
       "      <td>ZW</td>\n",
       "      <td>Zimbabwe</td>\n",
       "      <td>AFRO</td>\n",
       "      <td>84</td>\n",
       "      <td>247094</td>\n",
       "      <td>0</td>\n",
       "      <td>5460</td>\n",
       "    </tr>\n",
       "    <tr>\n",
       "      <th>197420</th>\n",
       "      <td>4/14/2022</td>\n",
       "      <td>ZW</td>\n",
       "      <td>Zimbabwe</td>\n",
       "      <td>AFRO</td>\n",
       "      <td>66</td>\n",
       "      <td>247160</td>\n",
       "      <td>0</td>\n",
       "      <td>5460</td>\n",
       "    </tr>\n",
       "  </tbody>\n",
       "</table>\n",
       "</div>"
      ],
      "text/plain": [
       "       Date_reported Country_code   Country WHO_region  New_cases  \\\n",
       "197416     4/10/2022           ZW  Zimbabwe       AFRO         33   \n",
       "197417     4/11/2022           ZW  Zimbabwe       AFRO         15   \n",
       "197418     4/12/2022           ZW  Zimbabwe       AFRO         37   \n",
       "197419     4/13/2022           ZW  Zimbabwe       AFRO         84   \n",
       "197420     4/14/2022           ZW  Zimbabwe       AFRO         66   \n",
       "\n",
       "        Cumulative_cases  New_deaths  Cumulative_deaths  \n",
       "197416            246958           0               5457  \n",
       "197417            246973           0               5457  \n",
       "197418            247010           3               5460  \n",
       "197419            247094           0               5460  \n",
       "197420            247160           0               5460  "
      ]
     },
     "execution_count": 9,
     "metadata": {},
     "output_type": "execute_result"
    }
   ],
   "source": [
    "df.tail()"
   ]
  },
  {
   "cell_type": "code",
   "execution_count": 10,
   "id": "35cb4c64",
   "metadata": {},
   "outputs": [
    {
     "data": {
      "text/plain": [
       "Date_reported        object\n",
       "Country_code         object\n",
       "Country              object\n",
       "WHO_region           object\n",
       "New_cases             int64\n",
       "Cumulative_cases      int64\n",
       "New_deaths            int64\n",
       "Cumulative_deaths     int64\n",
       "dtype: object"
      ]
     },
     "execution_count": 10,
     "metadata": {},
     "output_type": "execute_result"
    }
   ],
   "source": [
    "df.dtypes"
   ]
  },
  {
   "cell_type": "markdown",
   "id": "fdcc2526",
   "metadata": {},
   "source": [
    "<b>Understanding the Linear relationship between two variables</b>"
   ]
  },
  {
   "cell_type": "markdown",
   "id": "1cc2f244",
   "metadata": {},
   "source": [
    "<p>In order to start understand the (linear) relationship between an individual variable and the Cumulative_deaths. We can do this by using \"regplot\", which plots the scatterplot plus the fitted regression line for the data.</p>"
   ]
  },
  {
   "cell_type": "markdown",
   "id": "452d0fae",
   "metadata": {},
   "source": [
    "<b>Let's find the scatterplot of \"Cumulative_cases\" and \"Cumulative_deaths\"</b>"
   ]
  },
  {
   "cell_type": "code",
   "execution_count": 11,
   "id": "99ef2e9a",
   "metadata": {},
   "outputs": [
    {
     "data": {
      "image/png": "[encoded data removed]",
      "text/plain": [
       "<Figure size 432x288 with 1 Axes>"
      ]
     },
     "metadata": {
      "needs_background": "light"
     },
     "output_type": "display_data"
    }
   ],
   "source": [
    "sns.regplot(x = 'Cumulative_cases', y = 'Cumulative_deaths', data = df)\n",
    "plt.ylim(0,) # y axis starts from zero\n",
    "plt.title(\"correlation between Cumulative_cases and Cumulative_deaths\")\n",
    "plt.show()"
   ]
  },
  {
   "cell_type": "markdown",
   "id": "4bdda8d6",
   "metadata": {},
   "source": [
    "<p>There is a positive linear correlation between cumulative cases and cumulative deaths</p>"
   ]
  },
  {
   "cell_type": "code",
   "execution_count": 12,
   "id": "d61216ff",
   "metadata": {},
   "outputs": [
    {
     "data": {
      "text/html": [
       "<div>\n",
       "<style scoped>\n",
       "    .dataframe tbody tr th:only-of-type {\n",
       "        vertical-align: middle;\n",
       "    }\n",
       "\n",
       "    .dataframe tbody tr th {\n",
       "        vertical-align: top;\n",
       "    }\n",
       "\n",
       "    .dataframe thead th {\n",
       "        text-align: right;\n",
       "    }\n",
       "</style>\n",
       "<table border=\"1\" class=\"dataframe\">\n",
       "  <thead>\n",
       "    <tr style=\"text-align: right;\">\n",
       "      <th></th>\n",
       "      <th>Cumulative_cases</th>\n",
       "      <th>Cumulative_deaths</th>\n",
       "    </tr>\n",
       "  </thead>\n",
       "  <tbody>\n",
       "    <tr>\n",
       "      <th>Cumulative_cases</th>\n",
       "      <td>1.000000</td>\n",
       "      <td>0.914622</td>\n",
       "    </tr>\n",
       "    <tr>\n",
       "      <th>Cumulative_deaths</th>\n",
       "      <td>0.914622</td>\n",
       "      <td>1.000000</td>\n",
       "    </tr>\n",
       "  </tbody>\n",
       "</table>\n",
       "</div>"
      ],
      "text/plain": [
       "                   Cumulative_cases  Cumulative_deaths\n",
       "Cumulative_cases           1.000000           0.914622\n",
       "Cumulative_deaths          0.914622           1.000000"
      ]
     },
     "execution_count": 12,
     "metadata": {},
     "output_type": "execute_result"
    }
   ],
   "source": [
    "df[[\"Cumulative_cases\", \"Cumulative_deaths\"]].corr()"
   ]
  },
  {
   "cell_type": "markdown",
   "id": "cb951710",
   "metadata": {},
   "source": [
    "<p>As the Cumulative_cases goes up, the Cumulative_deaths goes up: this indicates a positive direct correlation between these two variables. Cumulative_cases seems like a pretty good predictor of Cumulative_deaths since the regression line is almost a perfect diagonal line.We can examine the correlation between Cumulative_cases and Cumulative_deaths and see it's approximately 0.91</p>"
   ]
  },
  {
   "cell_type": "code",
   "execution_count": 15,
   "id": "5578dd01",
   "metadata": {},
   "outputs": [
    {
     "data": {
      "image/png": "[encoded data removed]",
      "text/plain": [
       "<Figure size 432x288 with 1 Axes>"
      ]
     },
     "metadata": {
      "needs_background": "light"
     },
     "output_type": "display_data"
    }
   ],
   "source": [
    "sns.regplot(x = 'New_cases', y = 'Cumulative_deaths', data = df)\n",
    "plt.ylim(0,) # y axis starts from zero\n",
    "plt.title(\"correlation between New_cases and Cumulative_deaths\")\n",
    "plt.show()"
   ]
  },
  {
   "cell_type": "code",
   "execution_count": 16,
   "id": "d00fed57",
   "metadata": {},
   "outputs": [
    {
     "data": {
      "text/html": [
       "<div>\n",
       "<style scoped>\n",
       "    .dataframe tbody tr th:only-of-type {\n",
       "        vertical-align: middle;\n",
       "    }\n",
       "\n",
       "    .dataframe tbody tr th {\n",
       "        vertical-align: top;\n",
       "    }\n",
       "\n",
       "    .dataframe thead th {\n",
       "        text-align: right;\n",
       "    }\n",
       "</style>\n",
       "<table border=\"1\" class=\"dataframe\">\n",
       "  <thead>\n",
       "    <tr style=\"text-align: right;\">\n",
       "      <th></th>\n",
       "      <th>New_cases</th>\n",
       "      <th>Cumulative_deaths</th>\n",
       "    </tr>\n",
       "  </thead>\n",
       "  <tbody>\n",
       "    <tr>\n",
       "      <th>New_cases</th>\n",
       "      <td>1.000000</td>\n",
       "      <td>0.503202</td>\n",
       "    </tr>\n",
       "    <tr>\n",
       "      <th>Cumulative_deaths</th>\n",
       "      <td>0.503202</td>\n",
       "      <td>1.000000</td>\n",
       "    </tr>\n",
       "  </tbody>\n",
       "</table>\n",
       "</div>"
      ],
      "text/plain": [
       "                   New_cases  Cumulative_deaths\n",
       "New_cases           1.000000           0.503202\n",
       "Cumulative_deaths   0.503202           1.000000"
      ]
     },
     "execution_count": 16,
     "metadata": {},
     "output_type": "execute_result"
    }
   ],
   "source": [
    "df[[\"New_cases\", \"Cumulative_deaths\"]].corr()"
   ]
  },
  {
   "cell_type": "markdown",
   "id": "6c628097",
   "metadata": {},
   "source": [
    "<p>As the New_cases goes up, the Cumulative_deaths goes up: this indicates a positive direct correlation between these two variables. New_cases seems like a good predictor of Cumulative_deaths since the regression line is almost a perfect diagonal line. We can examine the correlation between New_cases and Cumulative_deaths and see it's approximately 0.50</p>"
   ]
  },
  {
   "cell_type": "markdown",
   "id": "1fe9a281",
   "metadata": {},
   "source": [
    "<b>Let us focus on Cumulative_cases vs Cumulative_deaths which demonstrates a stronger positive high correlation</b>"
   ]
  },
  {
   "cell_type": "markdown",
   "id": "0fda0387",
   "metadata": {},
   "source": [
    "<b>Let us perform simple linear regression by writing our simple linear models</b>"
   ]
  },
  {
   "cell_type": "code",
   "execution_count": 17,
   "id": "c737d643",
   "metadata": {},
   "outputs": [
    {
     "data": {
      "image/png": "[encoded data removed]",
      "text/plain": [
       "<Figure size 1440x720 with 1 Axes>"
      ]
     },
     "metadata": {
      "needs_background": "light"
     },
     "output_type": "display_data"
    }
   ],
   "source": [
    "# dependent variable on y axis\n",
    "y = df['Cumulative_deaths']\n",
    "\n",
    "# independent variable on x axis\n",
    "x = df['Cumulative_cases']\n",
    "\n",
    "\n",
    "#Display the plot inline\n",
    "%matplotlib inline\n",
    "\n",
    "# Increase the size of the plot\n",
    "plt.figure(figsize=(20,10))\n",
    "\n",
    "# Create a scatter plot\n",
    "plt.plot(x,y, 'o', markersize = 15)\n",
    "\n",
    "# Add axis labels and increase the font size\n",
    "plt.ylabel('Cumulative Deaths', fontsize = 30)\n",
    "plt.xlabel('Cumulative Cases', fontsize = 30)\n",
    "\n",
    "# Increase the font size on the ticks on the x and y axis\n",
    "plt.xticks(fontsize = 20)\n",
    "plt.yticks(fontsize = 20)\n",
    "\n",
    "# Display the scatter plot\n",
    "plt.show()"
   ]
  },
  {
   "cell_type": "markdown",
   "id": "65f23274",
   "metadata": {},
   "source": [
    "<b>Determine the Slope and Y intercept</b>"
   ]
  },
  {
   "cell_type": "markdown",
   "id": "195a7fb0",
   "metadata": {},
   "source": [
    "<b>Create the linear regression object</b>"
   ]
  },
  {
   "cell_type": "code",
   "execution_count": 18,
   "id": "830a8a8c",
   "metadata": {},
   "outputs": [],
   "source": [
    "lm = LinearRegression()"
   ]
  },
  {
   "cell_type": "markdown",
   "id": "026326f9",
   "metadata": {},
   "source": [
    "<p>How could Cumulative_cases help us predict Cumulative_deaths: we create a linear function with \"Cumulative_cases\" as the predictor variable and the \"Cumulative_deaths\" as the response variable.</p>"
   ]
  },
  {
   "cell_type": "code",
   "execution_count": 19,
   "id": "86b722fa",
   "metadata": {},
   "outputs": [],
   "source": [
    "X = df[['Cumulative_cases']]\n",
    "Y = df['Cumulative_deaths']"
   ]
  },
  {
   "cell_type": "markdown",
   "id": "b5405791",
   "metadata": {},
   "source": [
    "<b>Fit the linear model using Cumulative_cases</b>"
   ]
  },
  {
   "cell_type": "code",
   "execution_count": 20,
   "id": "912829f8",
   "metadata": {},
   "outputs": [
    {
     "data": {
      "text/plain": [
       "LinearRegression()"
      ]
     },
     "execution_count": 20,
     "metadata": {},
     "output_type": "execute_result"
    }
   ],
   "source": [
    "lm.fit(X,Y)"
   ]
  },
  {
   "cell_type": "markdown",
   "id": "4b38bbcd",
   "metadata": {},
   "source": [
    "<b>Let us output a prediction</b>"
   ]
  },
  {
   "cell_type": "code",
   "execution_count": 21,
   "id": "679db234",
   "metadata": {},
   "outputs": [
    {
     "data": {
      "text/plain": [
       "array([2347.47528686, 2347.47528686, 2347.47528686, 2347.47528686,\n",
       "       2347.47528686])"
      ]
     },
     "execution_count": 21,
     "metadata": {},
     "output_type": "execute_result"
    }
   ],
   "source": [
    "Yhat=lm.predict(X)\n",
    "Yhat[0:5] "
   ]
  },
  {
   "cell_type": "markdown",
   "id": "7d444ed0",
   "metadata": {},
   "source": [
    "<p>The value of the intercept is:</p>"
   ]
  },
  {
   "cell_type": "code",
   "execution_count": 22,
   "id": "b563ace6",
   "metadata": {},
   "outputs": [
    {
     "data": {
      "text/plain": [
       "2347.4752868551277"
      ]
     },
     "execution_count": 22,
     "metadata": {},
     "output_type": "execute_result"
    }
   ],
   "source": [
    "lm.intercept_"
   ]
  },
  {
   "cell_type": "markdown",
   "id": "c8b27d07",
   "metadata": {},
   "source": [
    "<p>The value of the slope is:</p>"
   ]
  },
  {
   "cell_type": "code",
   "execution_count": 23,
   "id": "926f5ecb",
   "metadata": {},
   "outputs": [
    {
     "data": {
      "text/plain": [
       "array([0.01532318])"
      ]
     },
     "execution_count": 23,
     "metadata": {},
     "output_type": "execute_result"
    }
   ],
   "source": [
    "lm.coef_"
   ]
  },
  {
   "cell_type": "markdown",
   "id": "8a554b11",
   "metadata": {},
   "source": [
    "<p>The final estimated linear model is:</p>"
   ]
  },
  {
   "cell_type": "markdown",
   "id": "16803e22",
   "metadata": {},
   "source": [
    "<h2>Model structure: Yhat = a + bX</h2>"
   ]
  },
  {
   "cell_type": "markdown",
   "id": "e1490b88",
   "metadata": {},
   "source": [
    "<h2>Cumulative_deaths = 2347 + 0.015*Cumulative_cases</h2>"
   ]
  },
  {
   "cell_type": "markdown",
   "id": "7e9bd27d",
   "metadata": {},
   "source": [
    "<b>Calculating R-squared Value</b>"
   ]
  },
  {
   "cell_type": "code",
   "execution_count": 24,
   "id": "5e690472",
   "metadata": {},
   "outputs": [
    {
     "name": "stdout",
     "output_type": "stream",
     "text": [
      "The R-square is:  0.8365335288617561\n"
     ]
    }
   ],
   "source": [
    "#Cumulative_cases_fit\n",
    "X = df[['Cumulative_cases']]\n",
    "Y = df['Cumulative_deaths']\n",
    "lm.fit(X, Y)\n",
    "# Find the R^2\n",
    "print('The R-square is: ', lm.score(X, Y))"
   ]
  },
  {
   "cell_type": "markdown",
   "id": "7e7ec194",
   "metadata": {},
   "source": [
    "<p>We can say that ~ 83.65335% of the variation of the Cumulative_deaths is explained by this simple linear model Cumulative_cases_fit.</p>"
   ]
  },
  {
   "cell_type": "markdown",
   "id": "0d44e137",
   "metadata": {},
   "source": [
    "<b>To calculate the MSE: we compare the predicted results with the actual results</b>"
   ]
  },
  {
   "cell_type": "code",
   "execution_count": 25,
   "id": "acf3256f",
   "metadata": {},
   "outputs": [
    {
     "name": "stdout",
     "output_type": "stream",
     "text": [
      "The mean square error of Cumulative_deaths and predicted value is:  470302482.92122144\n"
     ]
    }
   ],
   "source": [
    "Yhat=lm.predict(X)\n",
    "mse = mean_squared_error(df['Cumulative_deaths'], Yhat)\n",
    "print('The mean square error of Cumulative_deaths and predicted value is: ', mse)"
   ]
  },
  {
   "cell_type": "markdown",
   "id": "49d65914",
   "metadata": {},
   "source": [
    "<h2>Multiple Linear Regression</h2>"
   ]
  },
  {
   "cell_type": "markdown",
   "id": "067c89b7",
   "metadata": {},
   "source": [
    "<b>From the previous section we know that another good predictor of price could be:New_cases</b>"
   ]
  },
  {
   "cell_type": "markdown",
   "id": "8d8db81a",
   "metadata": {},
   "source": [
    "<p>Let's develop a model by including this variable as a predictor variable</p>"
   ]
  },
  {
   "cell_type": "markdown",
   "id": "965a4b29",
   "metadata": {},
   "source": [
    "<h2>Model format: Yhat = a + b1X1 + b2X2 + b3X3 + b4X4</h2>"
   ]
  },
  {
   "cell_type": "code",
   "execution_count": 26,
   "id": "8830fac8",
   "metadata": {},
   "outputs": [
    {
     "name": "stdout",
     "output_type": "stream",
     "text": [
      "What is the value of the intercept (a)? \n",
      " 2448.6527369410524\n",
      "What are the values of the coefficients (b1, b2)? \n",
      " [-0.13983976  0.01574856]\n",
      "\n",
      " Final estimated linear model\n",
      "\n",
      " Cumulative_deaths = 2448.6527369410524 + -0.13983975867975587*New_cases + 0.01574856336126515*Cumulative_cases\n"
     ]
    }
   ],
   "source": [
    "lm3 = LinearRegression() # creating regression variable\n",
    "Z = df[['New_cases', 'Cumulative_cases']] # extracting multiple independent variables\n",
    "\n",
    "#Fit the linear model using the two above-mentioned variables.\n",
    "lm3.fit(Z, df['Cumulative_deaths'])\n",
    "print(\"What is the value of the intercept (a)? \\n {}\".format(lm3.intercept_))\n",
    "print(\"What are the values of the coefficients (b1, b2)? \\n {}\".format(lm3.coef_))\n",
    "print(\"\\n Final estimated linear model\")\n",
    "print(f\"\\n Cumulative_deaths = {lm3.intercept_} + {lm3.coef_[0]}*New_cases + {lm3.coef_[1]}*Cumulative_cases\")"
   ]
  },
  {
   "cell_type": "markdown",
   "id": "cd6230bd",
   "metadata": {},
   "source": [
    "<h2> Calculating Pearson Correlation</h2>"
   ]
  },
  {
   "cell_type": "code",
   "execution_count": 27,
   "id": "439e645b",
   "metadata": {},
   "outputs": [],
   "source": [
    "from scipy.stats import pearsonr"
   ]
  },
  {
   "cell_type": "code",
   "execution_count": 28,
   "id": "88194831",
   "metadata": {},
   "outputs": [],
   "source": [
    "# Convert dataframe into series\n",
    "list1 = df['Cumulative_cases']\n",
    "list2 = df['Cumulative_deaths']"
   ]
  },
  {
   "cell_type": "code",
   "execution_count": 30,
   "id": "4d16ed12",
   "metadata": {},
   "outputs": [
    {
     "name": "stdout",
     "output_type": "stream",
     "text": [
      "Pearsons correlation: 0.915\n"
     ]
    }
   ],
   "source": [
    "# Apply the pearsonr()\n",
    "corr, _ = pearsonr(list1, list2)\n",
    "print('Pearsons correlation: %.3f' % corr)"
   ]
  },
  {
   "cell_type": "markdown",
   "id": "d26ec070",
   "metadata": {},
   "source": [
    "<h2>Descriptive Statististics</h2>"
   ]
  },
  {
   "cell_type": "code",
   "execution_count": 33,
   "id": "9099452c",
   "metadata": {},
   "outputs": [
    {
     "data": {
      "text/html": [
       "<div>\n",
       "<style scoped>\n",
       "    .dataframe tbody tr th:only-of-type {\n",
       "        vertical-align: middle;\n",
       "    }\n",
       "\n",
       "    .dataframe tbody tr th {\n",
       "        vertical-align: top;\n",
       "    }\n",
       "\n",
       "    .dataframe thead th {\n",
       "        text-align: right;\n",
       "    }\n",
       "</style>\n",
       "<table border=\"1\" class=\"dataframe\">\n",
       "  <thead>\n",
       "    <tr style=\"text-align: right;\">\n",
       "      <th></th>\n",
       "      <th>New_cases</th>\n",
       "      <th>Cumulative_cases</th>\n",
       "      <th>New_deaths</th>\n",
       "      <th>Cumulative_deaths</th>\n",
       "    </tr>\n",
       "  </thead>\n",
       "  <tbody>\n",
       "    <tr>\n",
       "      <th>count</th>\n",
       "      <td>1.974210e+05</td>\n",
       "      <td>1.974210e+05</td>\n",
       "      <td>197421.000000</td>\n",
       "      <td>197421.000000</td>\n",
       "    </tr>\n",
       "    <tr>\n",
       "      <th>mean</th>\n",
       "      <td>2.533603e+03</td>\n",
       "      <td>5.950420e+05</td>\n",
       "      <td>31.356082</td>\n",
       "      <td>11465.410286</td>\n",
       "    </tr>\n",
       "    <tr>\n",
       "      <th>std</th>\n",
       "      <td>1.674116e+04</td>\n",
       "      <td>3.201608e+06</td>\n",
       "      <td>165.130815</td>\n",
       "      <td>53638.347807</td>\n",
       "    </tr>\n",
       "    <tr>\n",
       "      <th>min</th>\n",
       "      <td>-3.295200e+04</td>\n",
       "      <td>0.000000e+00</td>\n",
       "      <td>-2460.000000</td>\n",
       "      <td>0.000000</td>\n",
       "    </tr>\n",
       "    <tr>\n",
       "      <th>25%</th>\n",
       "      <td>0.000000e+00</td>\n",
       "      <td>1.770000e+02</td>\n",
       "      <td>0.000000</td>\n",
       "      <td>2.000000</td>\n",
       "    </tr>\n",
       "    <tr>\n",
       "      <th>50%</th>\n",
       "      <td>2.500000e+01</td>\n",
       "      <td>1.088600e+04</td>\n",
       "      <td>0.000000</td>\n",
       "      <td>144.000000</td>\n",
       "    </tr>\n",
       "    <tr>\n",
       "      <th>75%</th>\n",
       "      <td>5.140000e+02</td>\n",
       "      <td>1.573110e+05</td>\n",
       "      <td>6.000000</td>\n",
       "      <td>2626.000000</td>\n",
       "    </tr>\n",
       "    <tr>\n",
       "      <th>max</th>\n",
       "      <td>1.252624e+06</td>\n",
       "      <td>7.971696e+07</td>\n",
       "      <td>11447.000000</td>\n",
       "      <td>979321.000000</td>\n",
       "    </tr>\n",
       "  </tbody>\n",
       "</table>\n",
       "</div>"
      ],
      "text/plain": [
       "          New_cases  Cumulative_cases     New_deaths  Cumulative_deaths\n",
       "count  1.974210e+05      1.974210e+05  197421.000000      197421.000000\n",
       "mean   2.533603e+03      5.950420e+05      31.356082       11465.410286\n",
       "std    1.674116e+04      3.201608e+06     165.130815       53638.347807\n",
       "min   -3.295200e+04      0.000000e+00   -2460.000000           0.000000\n",
       "25%    0.000000e+00      1.770000e+02       0.000000           2.000000\n",
       "50%    2.500000e+01      1.088600e+04       0.000000         144.000000\n",
       "75%    5.140000e+02      1.573110e+05       6.000000        2626.000000\n",
       "max    1.252624e+06      7.971696e+07   11447.000000      979321.000000"
      ]
     },
     "execution_count": 33,
     "metadata": {},
     "output_type": "execute_result"
    }
   ],
   "source": [
    "df.describe()"
   ]
  },
  {
   "cell_type": "markdown",
   "id": "39eaadca",
   "metadata": {},
   "source": [
    "<h2>Calculating F1 Score</h2>"
   ]
  },
  {
   "cell_type": "code",
   "execution_count": 34,
   "id": "1710f9f8",
   "metadata": {},
   "outputs": [],
   "source": [
    "from sklearn.metrics import f1_score"
   ]
  },
  {
   "cell_type": "code",
   "execution_count": null,
   "id": "06534ab8",
   "metadata": {},
   "outputs": [],
   "source": []
  }
 ],
 "metadata": {
  "kernelspec": {
   "display_name": "Python 3",
   "language": "python",
   "name": "python3"
  },
  "language_info": {
   "codemirror_mode": {
    "name": "ipython",
    "version": 3
   },
   "file_extension": ".py",
   "mimetype": "text/x-python",
   "name": "python",
   "nbconvert_exporter": "python",
   "pygments_lexer": "ipython3",
   "version": "3.6.15"
  }
 },
 "nbformat": 4,
 "nbformat_minor": 5
}
