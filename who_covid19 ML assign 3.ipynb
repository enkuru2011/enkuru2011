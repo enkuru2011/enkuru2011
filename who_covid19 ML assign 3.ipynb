{
 "cells": [
  {
   "cell_type": "markdown",
   "id": "d5b50fed",
   "metadata": {},
   "source": [
    "<h2>WHO-Covid-19-global-table-data: Assignment 3 <h2>"
   ]
  },
  {
   "cell_type": "markdown",
   "id": "3208524c",
   "metadata": {},
   "source": [
    "<h2> Machine Learning: Regression Models</h2>"
   ]
  },
  {
   "cell_type": "markdown",
   "id": "aea6e482",
   "metadata": {},
   "source": [
    "<h2>By Edison Nkurunungi - JAN22/COMP/959U</h2>"
   ]
  },
  {
   "cell_type": "code",
   "execution_count": 1,
   "id": "6bd792a4",
   "metadata": {},
   "outputs": [
    {
     "name": "stdout",
     "output_type": "stream",
     "text": [
      "Collecting seaborn\n",
      "  Downloading seaborn-0.11.2-py3-none-any.whl (292 kB)\n",
      "     |████████████████████████████████| 292 kB 2.1 MB/s            \n",
      "\u001b[?25hRequirement already satisfied: pandas>=0.23 in /srv/conda/envs/notebook/lib/python3.6/site-packages (from seaborn) (1.1.5)\n",
      "Requirement already satisfied: scipy>=1.0 in /srv/conda/envs/notebook/lib/python3.6/site-packages (from seaborn) (1.5.3)\n",
      "Requirement already satisfied: matplotlib>=2.2 in /srv/conda/envs/notebook/lib/python3.6/site-packages (from seaborn) (3.3.4)\n",
      "Requirement already satisfied: numpy>=1.15 in /srv/conda/envs/notebook/lib/python3.6/site-packages (from seaborn) (1.19.5)\n",
      "Requirement already satisfied: pillow>=6.2.0 in /srv/conda/envs/notebook/lib/python3.6/site-packages (from matplotlib>=2.2->seaborn) (8.3.2)\n",
      "Requirement already satisfied: pyparsing!=2.0.4,!=2.1.2,!=2.1.6,>=2.0.3 in /srv/conda/envs/notebook/lib/python3.6/site-packages (from matplotlib>=2.2->seaborn) (3.0.7)\n",
      "Requirement already satisfied: kiwisolver>=1.0.1 in /srv/conda/envs/notebook/lib/python3.6/site-packages (from matplotlib>=2.2->seaborn) (1.3.1)\n",
      "Requirement already satisfied: cycler>=0.10 in /srv/conda/envs/notebook/lib/python3.6/site-packages (from matplotlib>=2.2->seaborn) (0.11.0)\n",
      "Requirement already satisfied: python-dateutil>=2.1 in /srv/conda/envs/notebook/lib/python3.6/site-packages (from matplotlib>=2.2->seaborn) (2.8.2)\n",
      "Requirement already satisfied: pytz>=2017.2 in /srv/conda/envs/notebook/lib/python3.6/site-packages (from pandas>=0.23->seaborn) (2021.3)\n",
      "Requirement already satisfied: six>=1.5 in /srv/conda/envs/notebook/lib/python3.6/site-packages (from python-dateutil>=2.1->matplotlib>=2.2->seaborn) (1.16.0)\n",
      "Installing collected packages: seaborn\n",
      "Successfully installed seaborn-0.11.2\n",
      "Note: you may need to restart the kernel to use updated packages.\n"
     ]
    }
   ],
   "source": [
    "%pip install seaborn"
   ]
  },
  {
   "cell_type": "markdown",
   "id": "d4d81c5b",
   "metadata": {},
   "source": [
    "<b>Import Libraries to be use</b>"
   ]
  },
  {
   "cell_type": "code",
   "execution_count": 2,
   "id": "6962934e",
   "metadata": {},
   "outputs": [],
   "source": [
    "import pandas as pd\n",
    "import numpy as np\n",
    "import matplotlib.pyplot as plt\n",
    "import seaborn as sns\n",
    "from matplotlib import pyplot\n",
    "%matplotlib inline"
   ]
  },
  {
   "cell_type": "code",
   "execution_count": 3,
   "id": "d7c9c6fb",
   "metadata": {},
   "outputs": [],
   "source": [
    "# for test-train split and r2_score\n",
    "from sklearn.model_selection import train_test_split\n",
    "from sklearn.metrics import r2_score"
   ]
  },
  {
   "cell_type": "code",
   "execution_count": 4,
   "id": "18635dcd",
   "metadata": {},
   "outputs": [],
   "source": [
    "# for linear regression:\n",
    "from sklearn.linear_model import LinearRegression"
   ]
  },
  {
   "cell_type": "code",
   "execution_count": 5,
   "id": "6fee32c0",
   "metadata": {},
   "outputs": [],
   "source": [
    "# for cross validation and prediction\n",
    "from sklearn.model_selection import cross_val_predict\n",
    "from sklearn.model_selection import cross_val_score"
   ]
  },
  {
   "cell_type": "code",
   "execution_count": 6,
   "id": "ae9e977f",
   "metadata": {},
   "outputs": [],
   "source": [
    "# for mean square error\n",
    "from sklearn.metrics import mean_squared_error"
   ]
  },
  {
   "cell_type": "code",
   "execution_count": 7,
   "id": "006877c0",
   "metadata": {},
   "outputs": [],
   "source": [
    "# for saving trained models to disk:\n",
    "import pickle"
   ]
  },
  {
   "cell_type": "code",
   "execution_count": 8,
   "id": "a7937329",
   "metadata": {},
   "outputs": [
    {
     "data": {
      "text/html": [
       "<div>\n",
       "<style scoped>\n",
       "    .dataframe tbody tr th:only-of-type {\n",
       "        vertical-align: middle;\n",
       "    }\n",
       "\n",
       "    .dataframe tbody tr th {\n",
       "        vertical-align: top;\n",
       "    }\n",
       "\n",
       "    .dataframe thead th {\n",
       "        text-align: right;\n",
       "    }\n",
       "</style>\n",
       "<table border=\"1\" class=\"dataframe\">\n",
       "  <thead>\n",
       "    <tr style=\"text-align: right;\">\n",
       "      <th></th>\n",
       "      <th>Name</th>\n",
       "      <th>WHO Region</th>\n",
       "      <th>Cases_cumulative total</th>\n",
       "      <th>Cases_cumulative total per 100000 population</th>\n",
       "      <th>Cases_newly reported in last 7 days</th>\n",
       "      <th>Cases_newly reported in last 7 days per 100000 population</th>\n",
       "      <th>Cases_newly reported in last 24 hours</th>\n",
       "      <th>Deaths_cumulative total</th>\n",
       "      <th>Deaths_cumulative total per 100000 population</th>\n",
       "      <th>Deaths_newly reported in last 7 days</th>\n",
       "      <th>Deaths_newly reported in last 7 days per 100000 population</th>\n",
       "      <th>Deaths_newly reported in last 24 hours</th>\n",
       "    </tr>\n",
       "  </thead>\n",
       "  <tbody>\n",
       "    <tr>\n",
       "      <th>0</th>\n",
       "      <td>Global</td>\n",
       "      <td>NaN</td>\n",
       "      <td>503131834</td>\n",
       "      <td>6454.92628</td>\n",
       "      <td>4979698</td>\n",
       "      <td>63.887</td>\n",
       "      <td>404271</td>\n",
       "      <td>6200571</td>\n",
       "      <td>79.550181</td>\n",
       "      <td>16178</td>\n",
       "      <td>0.207556</td>\n",
       "      <td>1326</td>\n",
       "    </tr>\n",
       "    <tr>\n",
       "      <th>1</th>\n",
       "      <td>United States of America</td>\n",
       "      <td>Americas</td>\n",
       "      <td>79896146</td>\n",
       "      <td>24137.61500</td>\n",
       "      <td>241491</td>\n",
       "      <td>72.957</td>\n",
       "      <td>14564</td>\n",
       "      <td>981415</td>\n",
       "      <td>296.498000</td>\n",
       "      <td>2920</td>\n",
       "      <td>0.882000</td>\n",
       "      <td>19</td>\n",
       "    </tr>\n",
       "    <tr>\n",
       "      <th>2</th>\n",
       "      <td>India</td>\n",
       "      <td>South-East Asia</td>\n",
       "      <td>43045527</td>\n",
       "      <td>3119.23100</td>\n",
       "      <td>8599</td>\n",
       "      <td>0.623</td>\n",
       "      <td>1247</td>\n",
       "      <td>521966</td>\n",
       "      <td>37.824000</td>\n",
       "      <td>256</td>\n",
       "      <td>0.019000</td>\n",
       "      <td>1</td>\n",
       "    </tr>\n",
       "    <tr>\n",
       "      <th>3</th>\n",
       "      <td>Brazil</td>\n",
       "      <td>Americas</td>\n",
       "      <td>30252618</td>\n",
       "      <td>14232.54700</td>\n",
       "      <td>100216</td>\n",
       "      <td>47.147</td>\n",
       "      <td>2541</td>\n",
       "      <td>661960</td>\n",
       "      <td>311.424000</td>\n",
       "      <td>702</td>\n",
       "      <td>0.330000</td>\n",
       "      <td>22</td>\n",
       "    </tr>\n",
       "    <tr>\n",
       "      <th>4</th>\n",
       "      <td>France</td>\n",
       "      <td>Europe</td>\n",
       "      <td>27001702</td>\n",
       "      <td>41515.94100</td>\n",
       "      <td>800664</td>\n",
       "      <td>1231.045</td>\n",
       "      <td>19810</td>\n",
       "      <td>140985</td>\n",
       "      <td>216.769000</td>\n",
       "      <td>727</td>\n",
       "      <td>1.118000</td>\n",
       "      <td>48</td>\n",
       "    </tr>\n",
       "  </tbody>\n",
       "</table>\n",
       "</div>"
      ],
      "text/plain": [
       "                       Name       WHO Region  Cases_cumulative total  \\\n",
       "0                    Global              NaN               503131834   \n",
       "1  United States of America         Americas                79896146   \n",
       "2                     India  South-East Asia                43045527   \n",
       "3                    Brazil         Americas                30252618   \n",
       "4                    France           Europe                27001702   \n",
       "\n",
       "   Cases_cumulative total per 100000 population  \\\n",
       "0                                    6454.92628   \n",
       "1                                   24137.61500   \n",
       "2                                    3119.23100   \n",
       "3                                   14232.54700   \n",
       "4                                   41515.94100   \n",
       "\n",
       "   Cases_newly reported in last 7 days  \\\n",
       "0                              4979698   \n",
       "1                               241491   \n",
       "2                                 8599   \n",
       "3                               100216   \n",
       "4                               800664   \n",
       "\n",
       "   Cases_newly reported in last 7 days per 100000 population  \\\n",
       "0                                             63.887           \n",
       "1                                             72.957           \n",
       "2                                              0.623           \n",
       "3                                             47.147           \n",
       "4                                           1231.045           \n",
       "\n",
       "   Cases_newly reported in last 24 hours  Deaths_cumulative total  \\\n",
       "0                                 404271                  6200571   \n",
       "1                                  14564                   981415   \n",
       "2                                   1247                   521966   \n",
       "3                                   2541                   661960   \n",
       "4                                  19810                   140985   \n",
       "\n",
       "   Deaths_cumulative total per 100000 population  \\\n",
       "0                                      79.550181   \n",
       "1                                     296.498000   \n",
       "2                                      37.824000   \n",
       "3                                     311.424000   \n",
       "4                                     216.769000   \n",
       "\n",
       "   Deaths_newly reported in last 7 days  \\\n",
       "0                                 16178   \n",
       "1                                  2920   \n",
       "2                                   256   \n",
       "3                                   702   \n",
       "4                                   727   \n",
       "\n",
       "   Deaths_newly reported in last 7 days per 100000 population  \\\n",
       "0                                           0.207556            \n",
       "1                                           0.882000            \n",
       "2                                           0.019000            \n",
       "3                                           0.330000            \n",
       "4                                           1.118000            \n",
       "\n",
       "   Deaths_newly reported in last 24 hours  \n",
       "0                                    1326  \n",
       "1                                      19  \n",
       "2                                       1  \n",
       "3                                      22  \n",
       "4                                      48  "
      ]
     },
     "execution_count": 8,
     "metadata": {},
     "output_type": "execute_result"
    }
   ],
   "source": [
    "#import the file, WHO-COVID-19-global-data.csv and display dataset\n",
    "df= pd.read_csv ('./Data/WHO-COVID-19-global-table-data.csv')\n",
    "df.head()"
   ]
  },
  {
   "cell_type": "code",
   "execution_count": 9,
   "id": "13ca798f",
   "metadata": {},
   "outputs": [
    {
     "data": {
      "text/html": [
       "<div>\n",
       "<style scoped>\n",
       "    .dataframe tbody tr th:only-of-type {\n",
       "        vertical-align: middle;\n",
       "    }\n",
       "\n",
       "    .dataframe tbody tr th {\n",
       "        vertical-align: top;\n",
       "    }\n",
       "\n",
       "    .dataframe thead th {\n",
       "        text-align: right;\n",
       "    }\n",
       "</style>\n",
       "<table border=\"1\" class=\"dataframe\">\n",
       "  <thead>\n",
       "    <tr style=\"text-align: right;\">\n",
       "      <th></th>\n",
       "      <th>Name</th>\n",
       "      <th>WHO Region</th>\n",
       "      <th>Cases_cumulative total</th>\n",
       "      <th>Cases_cumulative total per 100000 population</th>\n",
       "      <th>Cases_newly reported in last 7 days</th>\n",
       "      <th>Cases_newly reported in last 7 days per 100000 population</th>\n",
       "      <th>Cases_newly reported in last 24 hours</th>\n",
       "      <th>Deaths_cumulative total</th>\n",
       "      <th>Deaths_cumulative total per 100000 population</th>\n",
       "      <th>Deaths_newly reported in last 7 days</th>\n",
       "      <th>Deaths_newly reported in last 7 days per 100000 population</th>\n",
       "      <th>Deaths_newly reported in last 24 hours</th>\n",
       "    </tr>\n",
       "  </thead>\n",
       "  <tbody>\n",
       "    <tr>\n",
       "      <th>233</th>\n",
       "      <td>Pitcairn Islands</td>\n",
       "      <td>Western Pacific</td>\n",
       "      <td>0</td>\n",
       "      <td>0.0</td>\n",
       "      <td>0</td>\n",
       "      <td>0.0</td>\n",
       "      <td>0</td>\n",
       "      <td>0</td>\n",
       "      <td>0.0</td>\n",
       "      <td>0</td>\n",
       "      <td>0.0</td>\n",
       "      <td>0</td>\n",
       "    </tr>\n",
       "    <tr>\n",
       "      <th>234</th>\n",
       "      <td>Saint Helena</td>\n",
       "      <td>Africa</td>\n",
       "      <td>0</td>\n",
       "      <td>0.0</td>\n",
       "      <td>0</td>\n",
       "      <td>0.0</td>\n",
       "      <td>0</td>\n",
       "      <td>0</td>\n",
       "      <td>0.0</td>\n",
       "      <td>0</td>\n",
       "      <td>0.0</td>\n",
       "      <td>0</td>\n",
       "    </tr>\n",
       "    <tr>\n",
       "      <th>235</th>\n",
       "      <td>Tokelau</td>\n",
       "      <td>Western Pacific</td>\n",
       "      <td>0</td>\n",
       "      <td>0.0</td>\n",
       "      <td>0</td>\n",
       "      <td>0.0</td>\n",
       "      <td>0</td>\n",
       "      <td>0</td>\n",
       "      <td>0.0</td>\n",
       "      <td>0</td>\n",
       "      <td>0.0</td>\n",
       "      <td>0</td>\n",
       "    </tr>\n",
       "    <tr>\n",
       "      <th>236</th>\n",
       "      <td>Turkmenistan</td>\n",
       "      <td>Europe</td>\n",
       "      <td>0</td>\n",
       "      <td>0.0</td>\n",
       "      <td>0</td>\n",
       "      <td>0.0</td>\n",
       "      <td>0</td>\n",
       "      <td>0</td>\n",
       "      <td>0.0</td>\n",
       "      <td>0</td>\n",
       "      <td>0.0</td>\n",
       "      <td>0</td>\n",
       "    </tr>\n",
       "    <tr>\n",
       "      <th>237</th>\n",
       "      <td>Tuvalu</td>\n",
       "      <td>Western Pacific</td>\n",
       "      <td>0</td>\n",
       "      <td>0.0</td>\n",
       "      <td>0</td>\n",
       "      <td>0.0</td>\n",
       "      <td>0</td>\n",
       "      <td>0</td>\n",
       "      <td>0.0</td>\n",
       "      <td>0</td>\n",
       "      <td>0.0</td>\n",
       "      <td>0</td>\n",
       "    </tr>\n",
       "  </tbody>\n",
       "</table>\n",
       "</div>"
      ],
      "text/plain": [
       "                 Name       WHO Region  Cases_cumulative total  \\\n",
       "233  Pitcairn Islands  Western Pacific                       0   \n",
       "234      Saint Helena           Africa                       0   \n",
       "235           Tokelau  Western Pacific                       0   \n",
       "236      Turkmenistan           Europe                       0   \n",
       "237            Tuvalu  Western Pacific                       0   \n",
       "\n",
       "     Cases_cumulative total per 100000 population  \\\n",
       "233                                           0.0   \n",
       "234                                           0.0   \n",
       "235                                           0.0   \n",
       "236                                           0.0   \n",
       "237                                           0.0   \n",
       "\n",
       "     Cases_newly reported in last 7 days  \\\n",
       "233                                    0   \n",
       "234                                    0   \n",
       "235                                    0   \n",
       "236                                    0   \n",
       "237                                    0   \n",
       "\n",
       "     Cases_newly reported in last 7 days per 100000 population  \\\n",
       "233                                                0.0           \n",
       "234                                                0.0           \n",
       "235                                                0.0           \n",
       "236                                                0.0           \n",
       "237                                                0.0           \n",
       "\n",
       "     Cases_newly reported in last 24 hours  Deaths_cumulative total  \\\n",
       "233                                      0                        0   \n",
       "234                                      0                        0   \n",
       "235                                      0                        0   \n",
       "236                                      0                        0   \n",
       "237                                      0                        0   \n",
       "\n",
       "     Deaths_cumulative total per 100000 population  \\\n",
       "233                                            0.0   \n",
       "234                                            0.0   \n",
       "235                                            0.0   \n",
       "236                                            0.0   \n",
       "237                                            0.0   \n",
       "\n",
       "     Deaths_newly reported in last 7 days  \\\n",
       "233                                     0   \n",
       "234                                     0   \n",
       "235                                     0   \n",
       "236                                     0   \n",
       "237                                     0   \n",
       "\n",
       "     Deaths_newly reported in last 7 days per 100000 population  \\\n",
       "233                                                0.0            \n",
       "234                                                0.0            \n",
       "235                                                0.0            \n",
       "236                                                0.0            \n",
       "237                                                0.0            \n",
       "\n",
       "     Deaths_newly reported in last 24 hours  \n",
       "233                                       0  \n",
       "234                                       0  \n",
       "235                                       0  \n",
       "236                                       0  \n",
       "237                                       0  "
      ]
     },
     "execution_count": 9,
     "metadata": {},
     "output_type": "execute_result"
    }
   ],
   "source": [
    "df.tail()"
   ]
  },
  {
   "cell_type": "code",
   "execution_count": 10,
   "id": "35cb4c64",
   "metadata": {},
   "outputs": [
    {
     "data": {
      "text/plain": [
       "Name                                                           object\n",
       "WHO Region                                                     object\n",
       "Cases_cumulative total                                          int64\n",
       "Cases_cumulative total per 100000 population                  float64\n",
       "Cases_newly reported in last 7 days                             int64\n",
       "Cases_newly reported in last 7 days per 100000 population     float64\n",
       "Cases_newly reported in last 24 hours                           int64\n",
       "Deaths_cumulative total                                         int64\n",
       "Deaths_cumulative total per 100000 population                 float64\n",
       "Deaths_newly reported in last 7 days                            int64\n",
       "Deaths_newly reported in last 7 days per 100000 population    float64\n",
       "Deaths_newly reported in last 24 hours                          int64\n",
       "dtype: object"
      ]
     },
     "execution_count": 10,
     "metadata": {},
     "output_type": "execute_result"
    }
   ],
   "source": [
    "df.dtypes"
   ]
  },
  {
   "cell_type": "markdown",
   "id": "fdcc2526",
   "metadata": {},
   "source": [
    "<b>Understanding the Linear relationship between two variables</b>"
   ]
  },
  {
   "cell_type": "markdown",
   "id": "1cc2f244",
   "metadata": {},
   "source": [
    "<p>In order to start understand the (linear) relationship between an individual variable and the Deaths_cumulative total. We can do this by using \"regplot\", which plots the scatterplot plus the fitted regression line for the data.</p>"
   ]
  },
  {
   "cell_type": "markdown",
   "id": "452d0fae",
   "metadata": {},
   "source": [
    "<b>Let's find the scatterplot of \"Cases_cumulative total\" and \"Deaths_cumulative total\"</b>"
   ]
  },
  {
   "cell_type": "code",
   "execution_count": 11,
   "id": "99ef2e9a",
   "metadata": {},
   "outputs": [
    {
     "data": {
      "image/png": "[encoded data removed]",
      "text/plain": [
       "<Figure size 432x288 with 1 Axes>"
      ]
     },
     "metadata": {
      "needs_background": "light"
     },
     "output_type": "display_data"
    }
   ],
   "source": [
    "sns.regplot(x = 'Cases_cumulative total', y = 'Deaths_cumulative total', data = df)\n",
    "plt.ylim(0,) # y axis starts from zero\n",
    "plt.title(\"correlation between Cases_cumulative total and Deaths_cumulative total\")\n",
    "plt.show()"
   ]
  },
  {
   "cell_type": "markdown",
   "id": "4bdda8d6",
   "metadata": {},
   "source": [
    "<p>There is a positive linear correlation between Cases_cumulative total and Deaths_cumulative total</p>"
   ]
  },
  {
   "cell_type": "code",
   "execution_count": 12,
   "id": "d61216ff",
   "metadata": {},
   "outputs": [
    {
     "data": {
      "text/html": [
       "<div>\n",
       "<style scoped>\n",
       "    .dataframe tbody tr th:only-of-type {\n",
       "        vertical-align: middle;\n",
       "    }\n",
       "\n",
       "    .dataframe tbody tr th {\n",
       "        vertical-align: top;\n",
       "    }\n",
       "\n",
       "    .dataframe thead th {\n",
       "        text-align: right;\n",
       "    }\n",
       "</style>\n",
       "<table border=\"1\" class=\"dataframe\">\n",
       "  <thead>\n",
       "    <tr style=\"text-align: right;\">\n",
       "      <th></th>\n",
       "      <th>Cases_cumulative total</th>\n",
       "      <th>Deaths_cumulative total</th>\n",
       "    </tr>\n",
       "  </thead>\n",
       "  <tbody>\n",
       "    <tr>\n",
       "      <th>Cases_cumulative total</th>\n",
       "      <td>1.000000</td>\n",
       "      <td>0.995412</td>\n",
       "    </tr>\n",
       "    <tr>\n",
       "      <th>Deaths_cumulative total</th>\n",
       "      <td>0.995412</td>\n",
       "      <td>1.000000</td>\n",
       "    </tr>\n",
       "  </tbody>\n",
       "</table>\n",
       "</div>"
      ],
      "text/plain": [
       "                         Cases_cumulative total  Deaths_cumulative total\n",
       "Cases_cumulative total                 1.000000                 0.995412\n",
       "Deaths_cumulative total                0.995412                 1.000000"
      ]
     },
     "execution_count": 12,
     "metadata": {},
     "output_type": "execute_result"
    }
   ],
   "source": [
    "df[[\"Cases_cumulative total\", \"Deaths_cumulative total\"]].corr()"
   ]
  },
  {
   "cell_type": "markdown",
   "id": "cb951710",
   "metadata": {},
   "source": [
    "<p>As Cases_cumulative total goes up, the Deaths_cumulative total goes up: this indicates a positive direct correlation between these two variables. Cases_cumulative total seems like a pretty good predictor of Deaths_cumulative total since the regression line is almost a perfect diagonal line.We can examine the correlation between Cases_cumulative total and Deaths_cumulative total and see it's approximately 0.99</p>"
   ]
  },
  {
   "cell_type": "code",
   "execution_count": 13,
   "id": "5578dd01",
   "metadata": {},
   "outputs": [
    {
     "data": {
      "image/png": "[encoded data removed]",
      "text/plain": [
       "<Figure size 432x288 with 1 Axes>"
      ]
     },
     "metadata": {
      "needs_background": "light"
     },
     "output_type": "display_data"
    }
   ],
   "source": [
    "sns.regplot(x = 'Cases_cumulative total per 100000 population', y = 'Deaths_cumulative total', data = df)\n",
    "plt.ylim(0,) # y axis starts from zero\n",
    "plt.title(\"Correlation between Cases_cumulative total per 100000 population and Deaths_cumulative total\")\n",
    "plt.show()"
   ]
  },
  {
   "cell_type": "code",
   "execution_count": 14,
   "id": "d00fed57",
   "metadata": {},
   "outputs": [
    {
     "data": {
      "text/html": [
       "<div>\n",
       "<style scoped>\n",
       "    .dataframe tbody tr th:only-of-type {\n",
       "        vertical-align: middle;\n",
       "    }\n",
       "\n",
       "    .dataframe tbody tr th {\n",
       "        vertical-align: top;\n",
       "    }\n",
       "\n",
       "    .dataframe thead th {\n",
       "        text-align: right;\n",
       "    }\n",
       "</style>\n",
       "<table border=\"1\" class=\"dataframe\">\n",
       "  <thead>\n",
       "    <tr style=\"text-align: right;\">\n",
       "      <th></th>\n",
       "      <th>Cases_cumulative total per 100000 population</th>\n",
       "      <th>Deaths_cumulative total</th>\n",
       "    </tr>\n",
       "  </thead>\n",
       "  <tbody>\n",
       "    <tr>\n",
       "      <th>Cases_cumulative total per 100000 population</th>\n",
       "      <td>1.000000</td>\n",
       "      <td>-0.028697</td>\n",
       "    </tr>\n",
       "    <tr>\n",
       "      <th>Deaths_cumulative total</th>\n",
       "      <td>-0.028697</td>\n",
       "      <td>1.000000</td>\n",
       "    </tr>\n",
       "  </tbody>\n",
       "</table>\n",
       "</div>"
      ],
      "text/plain": [
       "                                              Cases_cumulative total per 100000 population  \\\n",
       "Cases_cumulative total per 100000 population                                      1.000000   \n",
       "Deaths_cumulative total                                                          -0.028697   \n",
       "\n",
       "                                              Deaths_cumulative total  \n",
       "Cases_cumulative total per 100000 population                -0.028697  \n",
       "Deaths_cumulative total                                      1.000000  "
      ]
     },
     "execution_count": 14,
     "metadata": {},
     "output_type": "execute_result"
    }
   ],
   "source": [
    "df[[\"Cases_cumulative total per 100000 population\", \"Deaths_cumulative total\"]].corr()"
   ]
  },
  {
   "cell_type": "markdown",
   "id": "6c628097",
   "metadata": {},
   "source": [
    "<p>The above represents a Weak Linear Relationship: Cases_cumulative total per 100000 population does not seem like a good predictor of the Deaths_cumulative total at all since the regression line is horizontal. We can examine the correlation between Cases_cumulative total per 100000 population and Deaths_cumulative total and see it's approximately -0.028697</p>"
   ]
  },
  {
   "cell_type": "code",
   "execution_count": 15,
   "id": "b32a2314",
   "metadata": {},
   "outputs": [
    {
     "data": {
      "image/png": "[encoded data removed]",
      "text/plain": [
       "<Figure size 432x288 with 1 Axes>"
      ]
     },
     "metadata": {
      "needs_background": "light"
     },
     "output_type": "display_data"
    }
   ],
   "source": [
    "sns.regplot(x = 'Cases_newly reported in last 7 days', y = 'Deaths_cumulative total', data = df)\n",
    "plt.ylim(0,) # y axis starts from zero\n",
    "plt.title(\"Correlation between Cases_newly reported in last 7 days and Deaths_cumulative total\")\n",
    "plt.show()"
   ]
  },
  {
   "cell_type": "code",
   "execution_count": 16,
   "id": "65d72238",
   "metadata": {},
   "outputs": [
    {
     "data": {
      "text/html": [
       "<div>\n",
       "<style scoped>\n",
       "    .dataframe tbody tr th:only-of-type {\n",
       "        vertical-align: middle;\n",
       "    }\n",
       "\n",
       "    .dataframe tbody tr th {\n",
       "        vertical-align: top;\n",
       "    }\n",
       "\n",
       "    .dataframe thead th {\n",
       "        text-align: right;\n",
       "    }\n",
       "</style>\n",
       "<table border=\"1\" class=\"dataframe\">\n",
       "  <thead>\n",
       "    <tr style=\"text-align: right;\">\n",
       "      <th></th>\n",
       "      <th>Cases_newly reported in last 7 days</th>\n",
       "      <th>Deaths_cumulative total</th>\n",
       "    </tr>\n",
       "  </thead>\n",
       "  <tbody>\n",
       "    <tr>\n",
       "      <th>Cases_newly reported in last 7 days</th>\n",
       "      <td>1.00000</td>\n",
       "      <td>0.95026</td>\n",
       "    </tr>\n",
       "    <tr>\n",
       "      <th>Deaths_cumulative total</th>\n",
       "      <td>0.95026</td>\n",
       "      <td>1.00000</td>\n",
       "    </tr>\n",
       "  </tbody>\n",
       "</table>\n",
       "</div>"
      ],
      "text/plain": [
       "                                     Cases_newly reported in last 7 days  \\\n",
       "Cases_newly reported in last 7 days                              1.00000   \n",
       "Deaths_cumulative total                                          0.95026   \n",
       "\n",
       "                                     Deaths_cumulative total  \n",
       "Cases_newly reported in last 7 days                  0.95026  \n",
       "Deaths_cumulative total                              1.00000  "
      ]
     },
     "execution_count": 16,
     "metadata": {},
     "output_type": "execute_result"
    }
   ],
   "source": [
    "df[[\"Cases_newly reported in last 7 days\", \"Deaths_cumulative total\"]].corr()"
   ]
  },
  {
   "cell_type": "markdown",
   "id": "121d7610",
   "metadata": {},
   "source": [
    "<p>As Cases_newly reported in last 7 days goes up, the Deaths_cumulative total goes up: this indicates a positive direct correlation between these two variables. Cases_newly reported in last 7 days seems like a pretty good predictor of Deaths_cumulative total since the regression line is almost a perfect diagonal line. We can examine the correlation between Cases_newly reported in last 7 days and Deaths_cumulative total and see it's approximately 0.95</p>"
   ]
  },
  {
   "cell_type": "code",
   "execution_count": 17,
   "id": "9b0fbb5d",
   "metadata": {},
   "outputs": [
    {
     "data": {
      "image/png": "[encoded data removed]",
      "text/plain": [
       "<Figure size 432x288 with 1 Axes>"
      ]
     },
     "metadata": {
      "needs_background": "light"
     },
     "output_type": "display_data"
    }
   ],
   "source": [
    "sns.regplot(x = 'Cases_newly reported in last 24 hours', y = 'Deaths_cumulative total', data = df)\n",
    "plt.ylim(0,) # y axis starts from zero\n",
    "plt.title(\"Correlation between Cases_newly reported in last 24 hours and Deaths_cumulative total\")\n",
    "plt.show()"
   ]
  },
  {
   "cell_type": "code",
   "execution_count": 18,
   "id": "7bd92ce6",
   "metadata": {},
   "outputs": [
    {
     "data": {
      "text/html": [
       "<div>\n",
       "<style scoped>\n",
       "    .dataframe tbody tr th:only-of-type {\n",
       "        vertical-align: middle;\n",
       "    }\n",
       "\n",
       "    .dataframe tbody tr th {\n",
       "        vertical-align: top;\n",
       "    }\n",
       "\n",
       "    .dataframe thead th {\n",
       "        text-align: right;\n",
       "    }\n",
       "</style>\n",
       "<table border=\"1\" class=\"dataframe\">\n",
       "  <thead>\n",
       "    <tr style=\"text-align: right;\">\n",
       "      <th></th>\n",
       "      <th>Cases_newly reported in last 24 hours</th>\n",
       "      <th>Deaths_cumulative total</th>\n",
       "    </tr>\n",
       "  </thead>\n",
       "  <tbody>\n",
       "    <tr>\n",
       "      <th>Cases_newly reported in last 24 hours</th>\n",
       "      <td>1.000000</td>\n",
       "      <td>0.931041</td>\n",
       "    </tr>\n",
       "    <tr>\n",
       "      <th>Deaths_cumulative total</th>\n",
       "      <td>0.931041</td>\n",
       "      <td>1.000000</td>\n",
       "    </tr>\n",
       "  </tbody>\n",
       "</table>\n",
       "</div>"
      ],
      "text/plain": [
       "                                       Cases_newly reported in last 24 hours  \\\n",
       "Cases_newly reported in last 24 hours                               1.000000   \n",
       "Deaths_cumulative total                                             0.931041   \n",
       "\n",
       "                                       Deaths_cumulative total  \n",
       "Cases_newly reported in last 24 hours                 0.931041  \n",
       "Deaths_cumulative total                               1.000000  "
      ]
     },
     "execution_count": 18,
     "metadata": {},
     "output_type": "execute_result"
    }
   ],
   "source": [
    "df[[\"Cases_newly reported in last 24 hours\", \"Deaths_cumulative total\"]].corr()"
   ]
  },
  {
   "cell_type": "markdown",
   "id": "bf54d2e9",
   "metadata": {},
   "source": [
    "<p>As Cases_newly reported in last 24 hours goes up, the Deaths_cumulative total goes up: this indicates a positive direct correlation between these two variables. Cases_newly reported in last 24 hours seems like a pretty good predictor of Deaths_cumulative total since the regression line is almost a perfect diagonal line. We can examine the correlation between Cases_newly reported in last 24 hours and Deaths_cumulative total and see it's approximately 0.93</p>"
   ]
  },
  {
   "cell_type": "code",
   "execution_count": 19,
   "id": "f9c72860",
   "metadata": {},
   "outputs": [
    {
     "data": {
      "image/png": "[encoded data removed]",
      "text/plain": [
       "<Figure size 432x288 with 1 Axes>"
      ]
     },
     "metadata": {
      "needs_background": "light"
     },
     "output_type": "display_data"
    }
   ],
   "source": [
    "sns.regplot(x = 'Cases_newly reported in last 7 days per 100000 population', y = 'Deaths_cumulative total', data = df)\n",
    "plt.ylim(0,) # y axis starts from zero\n",
    "plt.title(\"Correlation between Cases_newly reported in last 7 days per 100000 population and Deaths_cumulative total\")\n",
    "plt.show()"
   ]
  },
  {
   "cell_type": "code",
   "execution_count": 20,
   "id": "7ca76d0e",
   "metadata": {},
   "outputs": [
    {
     "data": {
      "text/html": [
       "<div>\n",
       "<style scoped>\n",
       "    .dataframe tbody tr th:only-of-type {\n",
       "        vertical-align: middle;\n",
       "    }\n",
       "\n",
       "    .dataframe tbody tr th {\n",
       "        vertical-align: top;\n",
       "    }\n",
       "\n",
       "    .dataframe thead th {\n",
       "        text-align: right;\n",
       "    }\n",
       "</style>\n",
       "<table border=\"1\" class=\"dataframe\">\n",
       "  <thead>\n",
       "    <tr style=\"text-align: right;\">\n",
       "      <th></th>\n",
       "      <th>Cases_newly reported in last 7 days per 100000 population</th>\n",
       "      <th>Deaths_cumulative total</th>\n",
       "    </tr>\n",
       "  </thead>\n",
       "  <tbody>\n",
       "    <tr>\n",
       "      <th>Cases_newly reported in last 7 days per 100000 population</th>\n",
       "      <td>1.000000</td>\n",
       "      <td>-0.022707</td>\n",
       "    </tr>\n",
       "    <tr>\n",
       "      <th>Deaths_cumulative total</th>\n",
       "      <td>-0.022707</td>\n",
       "      <td>1.000000</td>\n",
       "    </tr>\n",
       "  </tbody>\n",
       "</table>\n",
       "</div>"
      ],
      "text/plain": [
       "                                                    Cases_newly reported in last 7 days per 100000 population  \\\n",
       "Cases_newly reported in last 7 days per 100000 ...                                           1.000000           \n",
       "Deaths_cumulative total                                                                     -0.022707           \n",
       "\n",
       "                                                    Deaths_cumulative total  \n",
       "Cases_newly reported in last 7 days per 100000 ...                -0.022707  \n",
       "Deaths_cumulative total                                            1.000000  "
      ]
     },
     "execution_count": 20,
     "metadata": {},
     "output_type": "execute_result"
    }
   ],
   "source": [
    "df[[\"Cases_newly reported in last 7 days per 100000 population\", \"Deaths_cumulative total\"]].corr()"
   ]
  },
  {
   "cell_type": "markdown",
   "id": "94cd7972",
   "metadata": {},
   "source": [
    "<p>The above represents a Weak Linear Relationship: Cases_newly reported in last 7 days per 100000 population does not seem like a good predictor of the Deaths_cumulative total at all since the regression line is horizontal. We can examine the correlation between Cases_newly reported in last 7 days per 100000 population and Deaths_cumulative total and see it's approximately -0.022707</p>"
   ]
  },
  {
   "cell_type": "markdown",
   "id": "1fe9a281",
   "metadata": {},
   "source": [
    "<b>Let us focus on Cases_cumulative total vs Deaths_cumulative total which demonstrates a stronger positive high correlation</b>"
   ]
  },
  {
   "cell_type": "markdown",
   "id": "0fda0387",
   "metadata": {},
   "source": [
    "<b>Let us perform simple linear regression by writing our simple linear models</b>"
   ]
  },
  {
   "cell_type": "code",
   "execution_count": 21,
   "id": "c737d643",
   "metadata": {},
   "outputs": [
    {
     "data": {
      "image/png": "[encoded data removed]",
      "text/plain": [
       "<Figure size 1440x720 with 1 Axes>"
      ]
     },
     "metadata": {
      "needs_background": "light"
     },
     "output_type": "display_data"
    }
   ],
   "source": [
    "# dependent variable on y axis\n",
    "y = df['Deaths_cumulative total']\n",
    "\n",
    "# independent variable on x axis\n",
    "x = df['Cases_cumulative total']\n",
    "\n",
    "\n",
    "#Display the plot inline\n",
    "%matplotlib inline\n",
    "\n",
    "# Increase the size of the plot\n",
    "plt.figure(figsize=(20,10))\n",
    "\n",
    "# Create a scatter plot\n",
    "plt.plot(x,y, 'o', markersize = 15)\n",
    "\n",
    "# Add axis labels and increase the font size\n",
    "plt.ylabel('Deaths_cumulative total', fontsize = 30)\n",
    "plt.xlabel('Cases_cumulative total', fontsize = 30)\n",
    "\n",
    "# Increase the font size on the ticks on the x and y axis\n",
    "plt.xticks(fontsize = 20)\n",
    "plt.yticks(fontsize = 20)\n",
    "\n",
    "# Display the scatter plot\n",
    "plt.show()"
   ]
  },
  {
   "cell_type": "markdown",
   "id": "65f23274",
   "metadata": {},
   "source": [
    "<b>Determine the Slope and Y intercept</b>"
   ]
  },
  {
   "cell_type": "markdown",
   "id": "195a7fb0",
   "metadata": {},
   "source": [
    "<b>Create the linear regression object</b>"
   ]
  },
  {
   "cell_type": "code",
   "execution_count": 22,
   "id": "830a8a8c",
   "metadata": {},
   "outputs": [],
   "source": [
    "lm = LinearRegression()"
   ]
  },
  {
   "cell_type": "markdown",
   "id": "026326f9",
   "metadata": {},
   "source": [
    "<p>How could Cumulative_cases help us predict Cumulative_deaths: we create a linear function with \"Cumulative_cases\" as the predictor variable and the \"Cumulative_deaths\" as the response variable.</p>"
   ]
  },
  {
   "cell_type": "code",
   "execution_count": 23,
   "id": "86b722fa",
   "metadata": {},
   "outputs": [],
   "source": [
    "X = df[['Cases_cumulative total']]\n",
    "Y = df['Deaths_cumulative total']"
   ]
  },
  {
   "cell_type": "markdown",
   "id": "b5405791",
   "metadata": {},
   "source": [
    "<b>Fit the linear model using Cumulative_cases</b>"
   ]
  },
  {
   "cell_type": "code",
   "execution_count": 24,
   "id": "912829f8",
   "metadata": {},
   "outputs": [
    {
     "data": {
      "text/plain": [
       "LinearRegression()"
      ]
     },
     "execution_count": 24,
     "metadata": {},
     "output_type": "execute_result"
    }
   ],
   "source": [
    "lm.fit(X,Y)"
   ]
  },
  {
   "cell_type": "markdown",
   "id": "4b38bbcd",
   "metadata": {},
   "source": [
    "<b>Let us output a prediction</b>"
   ]
  },
  {
   "cell_type": "code",
   "execution_count": 25,
   "id": "679db234",
   "metadata": {},
   "outputs": [
    {
     "data": {
      "text/plain": [
       "array([6192502.65933041,  983412.30310747,  529863.11173175,\n",
       "        372410.84390708,  332399.29557921])"
      ]
     },
     "execution_count": 25,
     "metadata": {},
     "output_type": "execute_result"
    }
   ],
   "source": [
    "Yhat=lm.predict(X)\n",
    "Yhat[0:5] "
   ]
  },
  {
   "cell_type": "markdown",
   "id": "7d444ed0",
   "metadata": {},
   "source": [
    "<p>The value of the intercept is:</p>"
   ]
  },
  {
   "cell_type": "code",
   "execution_count": 26,
   "id": "b563ace6",
   "metadata": {},
   "outputs": [
    {
     "data": {
      "text/plain": [
       "68.37576838638779"
      ]
     },
     "execution_count": 26,
     "metadata": {},
     "output_type": "execute_result"
    }
   ],
   "source": [
    "lm.intercept_"
   ]
  },
  {
   "cell_type": "markdown",
   "id": "c8b27d07",
   "metadata": {},
   "source": [
    "<p>The value of the slope is:</p>"
   ]
  },
  {
   "cell_type": "code",
   "execution_count": 27,
   "id": "926f5ecb",
   "metadata": {},
   "outputs": [
    {
     "data": {
      "text/plain": [
       "array([0.01230778])"
      ]
     },
     "execution_count": 27,
     "metadata": {},
     "output_type": "execute_result"
    }
   ],
   "source": [
    "lm.coef_"
   ]
  },
  {
   "cell_type": "markdown",
   "id": "8a554b11",
   "metadata": {},
   "source": [
    "<p>The final estimated linear model is:</p>"
   ]
  },
  {
   "cell_type": "markdown",
   "id": "9e30e9bf",
   "metadata": {},
   "source": [
    "<h2>Model structure: Yhat = a + bX</h2>"
   ]
  },
  {
   "cell_type": "markdown",
   "id": "bf8f8ac2",
   "metadata": {},
   "source": [
    "<h2>Deaths_cumulative total = 68 + 0.01231*Cases_cumulative total</h2>"
   ]
  },
  {
   "cell_type": "markdown",
   "id": "107b6825",
   "metadata": {},
   "source": [
    "<b>Calculating R-squared Value</b>"
   ]
  },
  {
   "cell_type": "code",
   "execution_count": 28,
   "id": "9ae1891b",
   "metadata": {},
   "outputs": [
    {
     "name": "stdout",
     "output_type": "stream",
     "text": [
      "The R-square is:  0.9908441278474144\n"
     ]
    }
   ],
   "source": [
    "#Cumulative_cases_fit\n",
    "X = df[['Cases_cumulative total']]\n",
    "Y = df['Deaths_cumulative total']\n",
    "lm.fit(X, Y)\n",
    "# Find the R^2\n",
    "print('The R-square is: ', lm.score(X, Y))"
   ]
  },
  {
   "cell_type": "markdown",
   "id": "7008c1aa",
   "metadata": {},
   "source": [
    "<p>We can say that ~ 99.08441% of the variation of the Deaths_cumulative total is explained by this simple linear model Cases_cumulative total_fit.</p>"
   ]
  },
  {
   "cell_type": "markdown",
   "id": "c760486d",
   "metadata": {},
   "source": [
    "<b>To calculate the MSE: we compare the predicted results with the actual results</b>"
   ]
  },
  {
   "cell_type": "code",
   "execution_count": 29,
   "id": "c07e1418",
   "metadata": {},
   "outputs": [
    {
     "name": "stdout",
     "output_type": "stream",
     "text": [
      "The mean square error of Cumulative_deaths and predicted value is:  1540012232.5846062\n"
     ]
    }
   ],
   "source": [
    "Yhat=lm.predict(X)\n",
    "mse = mean_squared_error(df['Deaths_cumulative total'], Yhat)\n",
    "print('The mean square error of Cumulative_deaths and predicted value is: ', mse)"
   ]
  },
  {
   "cell_type": "markdown",
   "id": "ce4dfb0c",
   "metadata": {},
   "source": [
    "<h2>Multiple Linear Regression</h2>"
   ]
  },
  {
   "cell_type": "markdown",
   "id": "6c358ba6",
   "metadata": {},
   "source": [
    "<b>From the previous section we know that other good predictors of Deaths_cumulative total could be: Cases_newly reported in last 24 hours, Cases_newly reported in last 7 days, and Cases_cumulative total. Let's develop a model by including them as predictor variables</b>"
   ]
  },
  {
   "cell_type": "markdown",
   "id": "55c72db5",
   "metadata": {},
   "source": [
    "<h2>Model format: Yhat = a + b1X1 + b2X2 + b3X3 + b4X4</h2>"
   ]
  },
  {
   "cell_type": "code",
   "execution_count": 31,
   "id": "74b1daf2",
   "metadata": {},
   "outputs": [
    {
     "name": "stdout",
     "output_type": "stream",
     "text": [
      "What is the value of the intercept (a)? \n",
      " 199.38105942605762\n",
      "What are the values of the coefficients (b1, b2, b3)? \n",
      " [ 0.38832696 -0.2735967   0.01467266]\n",
      "\n",
      " Final estimated linear model\n",
      "\n",
      " Deaths_cumulative total = 199.38105942605762 + 0.3883269566845819*Cases_newly reported in last 24 hours + -0.2735967034671006*Cases_newly reported in last 7 days + 0.014672663872594832*Cases_cumulative total\n"
     ]
    }
   ],
   "source": [
    "lm3 = LinearRegression() # creating regression variable\n",
    "Z = df[['Cases_newly reported in last 24 hours', 'Cases_newly reported in last 7 days', 'Cases_cumulative total']] # extracting multiple independent variables\n",
    "\n",
    "#Fit the linear model using the two above-mentioned variables.\n",
    "lm3.fit(Z, df['Deaths_cumulative total'])\n",
    "print(\"What is the value of the intercept (a)? \\n {}\".format(lm3.intercept_))\n",
    "print(\"What are the values of the coefficients (b1, b2, b3)? \\n {}\".format(lm3.coef_))\n",
    "print(\"\\n Final estimated linear model\")\n",
    "print(f\"\\n Deaths_cumulative total = {lm3.intercept_} + {lm3.coef_[0]}*Cases_newly reported in last 24 hours + {lm3.coef_[1]}*Cases_newly reported in last 7 days + {lm3.coef_[2]}*Cases_cumulative total\")"
   ]
  },
  {
   "cell_type": "code",
   "execution_count": null,
   "id": "1e5dce47",
   "metadata": {},
   "outputs": [],
   "source": []
  }
 ],
 "metadata": {
  "kernelspec": {
   "display_name": "Python 3",
   "language": "python",
   "name": "python3"
  },
  "language_info": {
   "codemirror_mode": {
    "name": "ipython",
    "version": 3
   },
   "file_extension": ".py",
   "mimetype": "text/x-python",
   "name": "python",
   "nbconvert_exporter": "python",
   "pygments_lexer": "ipython3",
   "version": "3.6.15"
  }
 },
 "nbformat": 4,
 "nbformat_minor": 5
}
